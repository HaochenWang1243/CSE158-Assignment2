{
 "cells": [
  {
   "cell_type": "code",
   "execution_count": 1,
   "metadata": {
    "id": "eac1f224"
   },
   "outputs": [],
   "source": [
    "import numpy\n",
    "import urllib\n",
    "import scipy.optimize\n",
    "import random\n",
    "from sklearn import linear_model\n",
    "import gzip\n",
    "from collections import defaultdict\n",
    "from sklearn.linear_model import LogisticRegression\n",
    "from sklearn.metrics import accuracy_score\n",
    "import string\n",
    "from collections import Counter\n",
    "import pandas as pd\n",
    "import matplotlib.pyplot as plt\n",
    "import random"
   ]
  },
  {
   "cell_type": "code",
   "execution_count": 2,
   "metadata": {
    "id": "efc4169b"
   },
   "outputs": [],
   "source": [
    "def show_acc_by_stars(preds, actual):\n",
    "    distri = Counter(actual)\n",
    "    five = 0\n",
    "    four = 0\n",
    "    three = 0\n",
    "    two = 0\n",
    "    one = 0\n",
    "    for x,y in zip(preds,actual):\n",
    "        if x ==y:\n",
    "            if y ==5.0:\n",
    "                five+=1\n",
    "            elif y ==4.0:\n",
    "                four+=1\n",
    "            elif y==3.0:\n",
    "                three+=1\n",
    "            elif y==2.0:\n",
    "                two+=1\n",
    "            else:\n",
    "                one+=1\n",
    "                \n",
    "    one_text = \"1 :   \" + str(one/distri[1.0])\n",
    "    two_text = \"2 :   \" + str(two/distri[2.0])\n",
    "    three_text = \"3 :   \" + str(three/distri[3.0])\n",
    "    four_text = \"4 :   \" + str(four/distri[4.0])\n",
    "    five_text = \"5 :   \" + str(five/distri[5.0])\n",
    "    overall_acc = \"overall accuracy:       \" + str(accuracy_score(preds,actual))\n",
    "    \n",
    "    print(one_text+'\\n'+two_text+'\\n'+three_text+'\\n'+four_text+'\\n' + five_text + '\\n'+overall_acc)                "
   ]
  },
  {
   "cell_type": "code",
   "execution_count": 3,
   "metadata": {
    "id": "0fb0b30d"
   },
   "outputs": [],
   "source": [
    "import warnings\n",
    "warnings.filterwarnings(\"ignore\")"
   ]
  },
  {
   "cell_type": "code",
   "execution_count": 4,
   "metadata": {
    "id": "8258b269"
   },
   "outputs": [],
   "source": [
    "def readGz(path):\n",
    "    for l in gzip.open(path, 'rt'):\n",
    "        yield eval(l)"
   ]
  },
  {
   "cell_type": "code",
   "execution_count": 5,
   "metadata": {
    "id": "9396ff5c"
   },
   "outputs": [],
   "source": [
    "f = gzip.open(\"Digital_Music_5.json.gz\")\n",
    "dataset = []\n",
    "for l in f:\n",
    "    dataset.append(eval(l,{\"true\":True,\"false\":False,\"null\":None}))"
   ]
  },
  {
   "cell_type": "code",
   "execution_count": 6,
   "metadata": {
    "id": "b93073d1",
    "outputId": "826dcd44-64af-464d-a31c-d3643daf4828"
   },
   "outputs": [
    {
     "data": {
      "text/plain": [
       "169781"
      ]
     },
     "execution_count": 6,
     "metadata": {},
     "output_type": "execute_result"
    }
   ],
   "source": [
    "len(dataset)"
   ]
  },
  {
   "cell_type": "code",
   "execution_count": 7,
   "metadata": {
    "id": "67e1e41f",
    "outputId": "cf2aa189-96e3-437d-a0ec-e739763f9dd3"
   },
   "outputs": [
    {
     "data": {
      "text/plain": [
       "{'overall': 5.0,\n",
       " 'vote': '3',\n",
       " 'verified': True,\n",
       " 'reviewTime': '06 3, 2013',\n",
       " 'reviewerID': 'A2TYZ821XXK2YZ',\n",
       " 'asin': '3426958910',\n",
       " 'style': {'Format:': ' Audio CD'},\n",
       " 'reviewerName': 'Garrett',\n",
       " 'reviewText': 'This is awesome to listen to, A must-have for all Slayer fans..sadly needed to be a triple disc set..They have so many hits!!',\n",
       " 'summary': 'Slayer Rules!',\n",
       " 'unixReviewTime': 1370217600}"
      ]
     },
     "execution_count": 7,
     "metadata": {},
     "output_type": "execute_result"
    }
   ],
   "source": [
    "dataset[0]"
   ]
  },
  {
   "cell_type": "code",
   "execution_count": 8,
   "metadata": {},
   "outputs": [],
   "source": [
    "validSet = []\n",
    "pairs = []\n",
    "ratings = []\n",
    "users = []\n",
    "items = []"
   ]
  },
  {
   "cell_type": "code",
   "execution_count": 9,
   "metadata": {
    "id": "455ffb71"
   },
   "outputs": [],
   "source": [
    "for data in dataset:\n",
    "    if data['verified'] == True:\n",
    "        validSet.append(data)\n",
    "        ratings.append(data['overall'])\n",
    "        pairs.append((data['reviewerID'], data['asin']))\n",
    "        users.append(data['reviewerID'])\n",
    "        items.append(data['asin'])"
   ]
  },
  {
   "cell_type": "code",
   "execution_count": 10,
   "metadata": {},
   "outputs": [
    {
     "data": {
      "text/plain": [
       "148944"
      ]
     },
     "execution_count": 10,
     "metadata": {},
     "output_type": "execute_result"
    }
   ],
   "source": [
    "len(validSet)"
   ]
  },
  {
   "cell_type": "code",
   "execution_count": 11,
   "metadata": {
    "id": "da7c9e83"
   },
   "outputs": [],
   "source": [
    "# Train 90%, Test 20%"
   ]
  },
  {
   "cell_type": "code",
   "execution_count": 48,
   "metadata": {
    "id": "f5b65f50"
   },
   "outputs": [],
   "source": [
    "train = validSet[:9*len(validSet)//10]\n",
    "test = validSet[9*len(validSet)//10:]"
   ]
  },
  {
   "cell_type": "code",
   "execution_count": 49,
   "metadata": {},
   "outputs": [],
   "source": [
    "Xtrain = pairs[:9*len(validSet)//10]\n",
    "Xtest = pairs[9*len(validSet)//10:]"
   ]
  },
  {
   "cell_type": "code",
   "execution_count": 50,
   "metadata": {},
   "outputs": [],
   "source": [
    "Ytrain = ratings[:9*len(validSet)//10]\n",
    "Ytest = ratings[9*len(validSet)//10:]"
   ]
  },
  {
   "cell_type": "code",
   "execution_count": 51,
   "metadata": {},
   "outputs": [
    {
     "data": {
      "text/plain": [
       "Counter({5.0: 121511, 4.0: 19621, 3.0: 5403, 2.0: 1044, 1.0: 1365})"
      ]
     },
     "execution_count": 51,
     "metadata": {},
     "output_type": "execute_result"
    }
   ],
   "source": [
    "distribution = Counter(ratings)\n",
    "distribution"
   ]
  },
  {
   "cell_type": "code",
   "execution_count": 52,
   "metadata": {},
   "outputs": [
    {
     "data": {
      "image/png": "[encoded data removed]",
      "text/plain": [
       "<Figure size 432x288 with 1 Axes>"
      ]
     },
     "metadata": {
      "needs_background": "light"
     },
     "output_type": "display_data"
    }
   ],
   "source": [
    "values, frequencies = zip(*distribution.items())\n",
    "\n",
    "# Plot the histogram\n",
    "colors = ['red', 'green', 'blue', 'orange', 'purple']\n",
    "plt.bar(values, frequencies, color=colors, alpha=0.7)\n",
    "plt.xlabel('Values')\n",
    "plt.ylabel('Frequencies')\n",
    "plt.title('Histogram of Data')\n",
    "plt.show()"
   ]
  },
  {
   "cell_type": "code",
   "execution_count": 53,
   "metadata": {},
   "outputs": [
    {
     "data": {
      "text/plain": [
       "{'overall': 5.0,\n",
       " 'vote': '3',\n",
       " 'verified': True,\n",
       " 'reviewTime': '06 3, 2013',\n",
       " 'reviewerID': 'A2TYZ821XXK2YZ',\n",
       " 'asin': '3426958910',\n",
       " 'style': {'Format:': ' Audio CD'},\n",
       " 'reviewerName': 'Garrett',\n",
       " 'reviewText': 'This is awesome to listen to, A must-have for all Slayer fans..sadly needed to be a triple disc set..They have so many hits!!',\n",
       " 'summary': 'Slayer Rules!',\n",
       " 'unixReviewTime': 1370217600}"
      ]
     },
     "execution_count": 53,
     "metadata": {},
     "output_type": "execute_result"
    }
   ],
   "source": [
    "train[0]"
   ]
  },
  {
   "cell_type": "code",
   "execution_count": 54,
   "metadata": {},
   "outputs": [],
   "source": [
    "#Latent Factor Baseline "
   ]
  },
  {
   "cell_type": "code",
   "execution_count": 55,
   "metadata": {},
   "outputs": [],
   "source": [
    "usersPerItem = defaultdict(set) # Maps an item to the users who rated it\n",
    "itemsPerUser = defaultdict(set) # Maps a user to the items that they rated\n",
    "    \n",
    "for d in train:\n",
    "    user,item = d['reviewerID'], d['asin']\n",
    "    usersPerItem[item].add(user)\n",
    "    itemsPerUser[user].add(item)"
   ]
  },
  {
   "cell_type": "code",
   "execution_count": 56,
   "metadata": {},
   "outputs": [],
   "source": [
    "globalAverage = sum(ratings) * 1.0 / len(ratings)\n",
    "\n",
    "ratingsPerUser = defaultdict(set) # Maps an item to the users who rated it\n",
    "ratingsPerItem = defaultdict(set) # Maps a user to the items that they rated\n",
    "ratingDict = {} # To retrieve a rating for a specific user/item pair\n",
    "    \n",
    "for d in validSet:\n",
    "    user,item,rate = d['reviewerID'], d['asin'], d['overall']\n",
    "    ratingsPerItem[item].add(rate)\n",
    "    ratingsPerUser[user].add(rate)\n",
    "    ratingDict[(user,item)] = rate"
   ]
  },
  {
   "cell_type": "code",
   "execution_count": 57,
   "metadata": {},
   "outputs": [],
   "source": [
    "betaU = {}\n",
    "betaI = {}\n",
    "for u in ratingsPerUser:\n",
    "    betaU[u] = 0\n",
    "\n",
    "for i in ratingsPerItem:\n",
    "    betaI[i] = 0\n",
    "\n",
    "alpha = globalAverage # Could initialize anywhere, this is a guess\n",
    "lenTrain = len(Ytrain)"
   ]
  },
  {
   "cell_type": "code",
   "execution_count": 58,
   "metadata": {},
   "outputs": [],
   "source": [
    "def iterate(lamb, alpha):\n",
    "    diff = float('inf')\n",
    "    obj = 0\n",
    "    a = alpha\n",
    "    \n",
    "    while diff > 0.5:\n",
    "        sum_1 = 0\n",
    "        sum_2 = 0\n",
    "        sum_3 = 0\n",
    "        for d in Xtrain:\n",
    "            sum_1 += (a + betaU[d[0]] + betaI[d[1]] - ratingDict[(d[0], d[1])])**2\n",
    "        for u in ratingsPerUser:\n",
    "            sum_2 += betaU[u]**2\n",
    "        for i in ratingsPerItem:\n",
    "            sum_2 += betaI[i]**2\n",
    "        newObj = sum_1 + lamb*(sum_2+sum_3)\n",
    "        diff = abs(obj - newObj)\n",
    "        obj = newObj\n",
    "        \n",
    "        sum_a = 0\n",
    "        for d in Xtrain:\n",
    "            sum_a += ratingDict[(d[0], d[1])] - (betaI[d[1]] + betaU[d[0]])\n",
    "        a = sum_a / lenTrain\n",
    "            \n",
    "        for d in Xtrain:\n",
    "            sum_u = 0\n",
    "            sum_i = 0\n",
    "            \n",
    "            for i in itemsPerUser[d[0]]:\n",
    "                sum_u += ratingDict[(d[0], i)] - (a+betaI[i])\n",
    "            betaU[d[0]] = sum_u / (lamb + len(itemsPerUser[d[0]]))\n",
    "                \n",
    "            for u in usersPerItem[d[1]]:\n",
    "                sum_i += ratingDict[(u, d[1])] - (a+betaU[u])\n",
    "            betaI[d[1]] = sum_i / (lamb + len(usersPerItem[d[1]]))\n",
    "            \n",
    "    return a"
   ]
  },
  {
   "cell_type": "code",
   "execution_count": 59,
   "metadata": {},
   "outputs": [],
   "source": [
    "def MSE(predictions, labels):\n",
    "    differences = [(x-y)**2 for x,y in zip(predictions,labels)]\n",
    "    return sum(differences) / len(differences)"
   ]
  },
  {
   "cell_type": "code",
   "execution_count": 44,
   "metadata": {},
   "outputs": [],
   "source": [
    "alpha = iterate(5, alpha)\n",
    "predictRatings = []\n",
    "\n",
    "for d in Xtest:\n",
    "    if d[0] in betaU and d[1] in betaI:\n",
    "        predictRatings.append(alpha + betaU[d[0]] + betaI[d[1]])\n",
    "    else:\n",
    "        predictRatings.append(5)"
   ]
  },
  {
   "cell_type": "code",
   "execution_count": 60,
   "metadata": {},
   "outputs": [],
   "source": [
    "alpha = iterate(5, alpha)\n",
    "predictRatings = []\n",
    "\n",
    "for d in Xtest:\n",
    "    if d[0] in betaU and d[1] in betaI:\n",
    "        predictRatings.append(round(alpha + betaU[d[0]] + betaI[d[1]]))\n",
    "    else:\n",
    "        predictRatings.append(5)"
   ]
  },
  {
   "cell_type": "code",
   "execution_count": 61,
   "metadata": {},
   "outputs": [
    {
     "data": {
      "text/plain": [
       "0.43343403826787513"
      ]
     },
     "execution_count": 61,
     "metadata": {},
     "output_type": "execute_result"
    }
   ],
   "source": [
    "validMSE = MSE(predictRatings, Ytest)\n",
    "validMSE"
   ]
  },
  {
   "cell_type": "code",
   "execution_count": null,
   "metadata": {},
   "outputs": [],
   "source": [
    "#Jaccard Similarity-base rating prediction "
   ]
  },
  {
   "cell_type": "code",
   "execution_count": 63,
   "metadata": {},
   "outputs": [],
   "source": [
    "def Jaccard(s1, s2):\n",
    "    numer = len(s1.intersection(s2))\n",
    "    denom = len(s1.union(s2))\n",
    "    if denom == 0:\n",
    "        return 0\n",
    "    return numer / denom"
   ]
  },
  {
   "cell_type": "code",
   "execution_count": 100,
   "metadata": {},
   "outputs": [],
   "source": [
    "def mostSimilar(i):\n",
    "    similarities = []\n",
    "    if i not in usersPerItem: \n",
    "        return similarities\n",
    "    user = usersPerItem[i]\n",
    "    for i2 in usersPerItem:\n",
    "        if i2 == i: continue\n",
    "        sim = Jaccard(user, usersPerItem[i2])\n",
    "        similarities.append(sim)\n",
    "    similarities.sort(reverse=True)\n",
    "    return similarities"
   ]
  },
  {
   "cell_type": "code",
   "execution_count": 101,
   "metadata": {},
   "outputs": [
    {
     "data": {
      "text/plain": [
       "29788"
      ]
     },
     "execution_count": 101,
     "metadata": {},
     "output_type": "execute_result"
    }
   ],
   "source": [
    "len(Xtest)"
   ]
  },
  {
   "cell_type": "code",
   "execution_count": 118,
   "metadata": {},
   "outputs": [],
   "source": [
    "newTest = []\n",
    "actualVal = []\n",
    "for i in range(len(Xtest)):\n",
    "    pair = (random.choice(users), random.choice(items))\n",
    "    newTest.append(pair)\n",
    "    if pair in ratingDict:\n",
    "        actualVal.append(1)\n",
    "    else:\n",
    "        actualVal.append(0)"
   ]
  },
  {
   "cell_type": "code",
   "execution_count": 120,
   "metadata": {},
   "outputs": [
    {
     "name": "stdout",
     "output_type": "stream",
     "text": [
      "59576 59576\n"
     ]
    }
   ],
   "source": [
    "newTest = newTest + Xtest\n",
    "actualVal = actualVal + [1]*len(Xtest)"
   ]
  },
  {
   "cell_type": "code",
   "execution_count": 122,
   "metadata": {},
   "outputs": [],
   "source": [
    "threshold = 0.038\n",
    "predictVal = []\n",
    "\n",
    "for i in newTest:\n",
    "    simis = mostSimilar(i[1])\n",
    "    if len(simis)>0 and max(simis)>threshold:\n",
    "        predictVal.append(1)\n",
    "    else:\n",
    "        predictVal.append(0)\n",
    "        \n",
    "correct = 0\n",
    "for i in range(len(predictVal)):\n",
    "    if predictVal[i] == actualVal[i]:\n",
    "        correct += 1\n",
    "        \n",
    "acc = correct / len(predictVal)"
   ]
  },
  {
   "cell_type": "code",
   "execution_count": 123,
   "metadata": {},
   "outputs": [
    {
     "data": {
      "text/plain": [
       "0.40868806230696925"
      ]
     },
     "execution_count": 123,
     "metadata": {},
     "output_type": "execute_result"
    }
   ],
   "source": [
    "acc"
   ]
  }
 ],
 "metadata": {
  "colab": {
   "provenance": []
  },
  "kernelspec": {
   "display_name": "Python 3",
   "language": "python",
   "name": "python3"
  },
  "language_info": {
   "codemirror_mode": {
    "name": "ipython",
    "version": 3
   },
   "file_extension": ".py",
   "mimetype": "text/x-python",
   "name": "python",
   "nbconvert_exporter": "python",
   "pygments_lexer": "ipython3",
   "version": "3.8.5"
  }
 },
 "nbformat": 4,
 "nbformat_minor": 5
}
