{
 "cells": [
  {
   "cell_type": "code",
   "execution_count": 1,
   "metadata": {},
   "outputs": [
    {
     "ename": "ModuleNotFoundError",
     "evalue": "No module named 'surprise'",
     "output_type": "error",
     "traceback": [
      "\u001b[0;31m---------------------------------------------------------------------------\u001b[0m",
      "\u001b[0;31mModuleNotFoundError\u001b[0m                       Traceback (most recent call last)",
      "\u001b[0;32m<ipython-input-1-6ee4bd4de7ac>\u001b[0m in \u001b[0;36m<module>\u001b[0;34m\u001b[0m\n\u001b[1;32m      4\u001b[0m \u001b[0;32mimport\u001b[0m \u001b[0mnumpy\u001b[0m \u001b[0;32mas\u001b[0m \u001b[0mnp\u001b[0m\u001b[0;34m\u001b[0m\u001b[0;34m\u001b[0m\u001b[0m\n\u001b[1;32m      5\u001b[0m \u001b[0;32mfrom\u001b[0m \u001b[0mimplicit\u001b[0m \u001b[0;32mimport\u001b[0m \u001b[0mbpr\u001b[0m\u001b[0;34m\u001b[0m\u001b[0;34m\u001b[0m\u001b[0m\n\u001b[0;32m----> 6\u001b[0;31m \u001b[0;32mfrom\u001b[0m \u001b[0msurprise\u001b[0m \u001b[0;32mimport\u001b[0m \u001b[0mSVD\u001b[0m\u001b[0;34m,\u001b[0m \u001b[0mReader\u001b[0m\u001b[0;34m,\u001b[0m \u001b[0mDataset\u001b[0m\u001b[0;34m\u001b[0m\u001b[0;34m\u001b[0m\u001b[0m\n\u001b[0m\u001b[1;32m      7\u001b[0m \u001b[0;32mfrom\u001b[0m \u001b[0msurprise\u001b[0m\u001b[0;34m.\u001b[0m\u001b[0mmodel_selection\u001b[0m \u001b[0;32mimport\u001b[0m \u001b[0mtrain_test_split\u001b[0m\u001b[0;34m,\u001b[0m\u001b[0mcross_validate\u001b[0m\u001b[0;34m\u001b[0m\u001b[0;34m\u001b[0m\u001b[0m\n\u001b[1;32m      8\u001b[0m \u001b[0;32mimport\u001b[0m \u001b[0mpandas\u001b[0m \u001b[0;32mas\u001b[0m \u001b[0mpd\u001b[0m\u001b[0;34m\u001b[0m\u001b[0;34m\u001b[0m\u001b[0m\n",
      "\u001b[0;31mModuleNotFoundError\u001b[0m: No module named 'surprise'"
     ]
    }
   ],
   "source": [
    "import gzip\n",
    "from collections import defaultdict\n",
    "import json\n",
    "import numpy as np\n",
    "from implicit import bpr\n",
    "from surprise import SVD, Reader, Dataset\n",
    "from surprise.model_selection import train_test_split,cross_validate\n",
    "import pandas as pd\n",
    "import matplotlib \n",
    "from matplotlib import pyplot as plt\n",
    "matplotlib.rcParams['figure.figsize'] = (10, 4)\n",
    "import skopt\n",
    "from skopt import gp_minimize, forest_minimize\n",
    "from skopt.space import Real, Categorical, Integer\n",
    "from skopt.utils import use_named_args"
   ]
  },
  {
   "cell_type": "code",
   "execution_count": null,
   "metadata": {},
   "outputs": [],
   "source": [
    "\n",
    "def parse(path):\n",
    "  g = gzip.open(path, 'r')\n",
    "  for l in g:\n",
    "    yield json.loads(l)\n",
    "\n",
    "def getDF(path):\n",
    "  i = 0\n",
    "  df = {}\n",
    "  for d in parse(path):\n",
    "    df[i] = d\n",
    "    i += 1\n",
    "  return pd.DataFrame.from_dict(df, orient='index')\n",
    "\n",
    "df = getDF(\"Digital_Music_5.json.gz\")"
   ]
  },
  {
   "cell_type": "code",
   "execution_count": null,
   "metadata": {},
   "outputs": [],
   "source": [
    "df = df[df['verified'] == True]\n",
    "df = df[['asin','reviewerID','overall']]"
   ]
  },
  {
   "cell_type": "code",
   "execution_count": null,
   "metadata": {},
   "outputs": [],
   "source": [
    "df"
   ]
  },
  {
   "cell_type": "code",
   "execution_count": null,
   "metadata": {},
   "outputs": [],
   "source": [
    "# helper functions\n",
    "def MSE(y, ypred):\n",
    "    differences = [(x-y)**2 for x,y in zip(ypred,y)]\n",
    "    return sum(differences) / len(differences)"
   ]
  },
  {
   "cell_type": "code",
   "execution_count": null,
   "metadata": {},
   "outputs": [],
   "source": [
    "# global mean predictor\n",
    "ratingMean = df['overall'].mean()\n",
    "MSE(df['overall'].tolist()[-14000:],([5]*df.shape[0])[-14000:])"
   ]
  },
  {
   "cell_type": "code",
   "execution_count": null,
   "metadata": {},
   "outputs": [],
   "source": [
    "df.to_csv('ratings.csv',header=False,index=False)"
   ]
  },
  {
   "cell_type": "code",
   "execution_count": null,
   "metadata": {},
   "outputs": [],
   "source": [
    "############################################################################################\n",
    "# time played prediction begins\n",
    "ratings_file = \"ratings.csv\"\n",
    "\n",
    "reader = Reader(line_format=\"item user rating\", sep=\",\",rating_scale=(1,5))\n",
    "data = Dataset.load_from_file(ratings_file, reader=reader)\n",
    "\n",
    "trainset,testset = train_test_split(data, test_size=.1) # data is shuffled by default\n",
    "def validate(latent_factors, init_std_dev, lr_bu, lr_bi, lr_pu, lr_qi, reg_bu, reg_bi, reg_pu, reg_qi, n_iter):\n",
    "    model = SVD(\n",
    "            n_factors=latent_factors, \n",
    "            n_epochs=n_iter, \n",
    "            biased=True,\n",
    "            init_mean=0,\n",
    "            init_std_dev=init_std_dev,\n",
    "            lr_all=None,\n",
    "            reg_all=None,\n",
    "            lr_bu=lr_bu,\n",
    "            lr_bi=lr_bi,\n",
    "            lr_pu=lr_pu,\n",
    "            lr_qi=lr_qi,\n",
    "            reg_bu=reg_bu,\n",
    "            reg_bi=reg_bi,\n",
    "            reg_pu=reg_pu,\n",
    "            reg_qi=reg_qi,\n",
    "            random_state=None, \n",
    "            verbose=False\n",
    "        )\n",
    "    \n",
    "    # last chunk of data for validation\n",
    "    model.fit(trainset)\n",
    "    predictions = model.test(testset)\n",
    "    \n",
    "    sse = 0\n",
    "    for p in predictions:\n",
    "        sse += (p.r_ui - p.est)**2\n",
    "    mse = sse / len(predictions)\n",
    "    return mse\n",
    "    \n",
    "    # 10-fold CV\n",
    "    # return cross_validate(model, data, measures=[\"MSE\"], cv=10, verbose=True)\n",
    "\n",
    "def tune():\n",
    "    \n",
    "    search_space = [\n",
    "        # Real(1e-6, 0.01, prior = 'log-uniform', name = 'lamb'),\n",
    "        # Integer(1, 2, name ='latent_factors'),\n",
    "        Real(1e-5, 1e-2, prior = 'log-uniform', name ='lr_bu'),\n",
    "        Real(1e-5, 1e-2, prior = 'log-uniform', name ='lr_bi'),\n",
    "        Real(1e-5, 1e-2, prior = 'log-uniform', name ='lr_pu'),\n",
    "        Real(1e-5, 1e-2, prior = 'log-uniform', name ='lr_qi'),\n",
    "        Real(1e-7, 0.01, prior = 'log-uniform', name ='reg_bu'),\n",
    "        Real(1e-7, 0.01, prior = 'log-uniform', name ='reg_bi'),\n",
    "        Real(1e-7, 0.01, prior = 'log-uniform', name ='reg_pu'),\n",
    "        Real(1e-7, 0.01, prior = 'log-uniform', name ='reg_qi'),\n",
    "        Real(1e-4, 1e-2, prior = 'uniform', name ='init_std_dev'),\n",
    "        Integer(20,100, name ='n_iter'),\n",
    "    ]\n",
    "    \n",
    "    @use_named_args(dimensions=search_space)\n",
    "    def objective(lr_bu, lr_bi, lr_pu, lr_qi, reg_bu, reg_bi, reg_pu, reg_qi, init_std_dev, n_iter):\n",
    "        latent_factors = 0\n",
    "        # latent_factors = 1\n",
    "        init_mean = 0\n",
    "        print('calculating objective...')\n",
    "        print(f'latent_factors={latent_factors}, lr_bu={lr_bu}, lr_bi={lr_bi}, lr_pu={lr_pu}, lr_qi={lr_qi},reg_bu={reg_bu},reg_bi={reg_bi},reg_pu={reg_pu},reg_qi={reg_qi}, n_iter={n_iter},init_mean={init_mean}, init_std_dev={init_std_dev}')\n",
    "        \n",
    "        # 10-fold CV\n",
    "        # cv_result = validate(latent_factors, init_std_dev, lr_bu, lr_bi, lr_pu, lr_qi, reg_bu, reg_bi, reg_pu, reg_qi, n_iter)\n",
    "        # mean_mse = np.mean(cv_result['test_mse'])\n",
    "        # print(f'objective = {mean_mse}\\n')\n",
    "        # return mean_mse\n",
    "        \n",
    "        # last 10% data as validation data\n",
    "        mse = validate(latent_factors, init_std_dev, lr_bu, lr_bi, lr_pu, lr_qi, reg_bu, reg_bi, reg_pu, reg_qi, n_iter)\n",
    "        print(f'objective = {mse}\\n')\n",
    "        return mse\n",
    "    \n",
    "    default_parameters = [0.0046905221106103065,0.004707606265909147,0.00034357514547643595,0.0001,1e-6,1e-6,1e-6,1e-6,1e-3,40]\n",
    "    search_result = gp_minimize(func=objective,\n",
    "                            dimensions=search_space,\n",
    "                            # acq_func='EI', # Expected Improvement.\n",
    "                            n_calls=200,\n",
    "                            x0=default_parameters)\n",
    "    return search_result\n",
    "\n",
    "tune()\n"
   ]
  }
 ],
 "metadata": {
  "kernelspec": {
   "display_name": "Python 3",
   "language": "python",
   "name": "python3"
  },
  "language_info": {
   "codemirror_mode": {
    "name": "ipython",
    "version": 3
   },
   "file_extension": ".py",
   "mimetype": "text/x-python",
   "name": "python",
   "nbconvert_exporter": "python",
   "pygments_lexer": "ipython3",
   "version": "3.7.9"
  }
 },
 "nbformat": 4,
 "nbformat_minor": 2
}
