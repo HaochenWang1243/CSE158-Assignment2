{
 "cells": [
  {
   "cell_type": "code",
   "execution_count": 1,
   "id": "0ded36b0",
   "metadata": {
    "id": "eac1f224"
   },
   "outputs": [],
   "source": [
    "import numpy\n",
    "import urllib\n",
    "import scipy.optimize\n",
    "import random\n",
    "from sklearn import linear_model\n",
    "import gzip\n",
    "from collections import defaultdict\n",
    "from sklearn.linear_model import LogisticRegression\n",
    "from sklearn.metrics import accuracy_score\n",
    "import string\n",
    "from collections import Counter\n",
    "import pandas as pd\n",
    "import matplotlib.pyplot as plt\n",
    "import random"
   ]
  },
  {
   "cell_type": "code",
   "execution_count": 2,
   "id": "89259a91",
   "metadata": {
    "id": "efc4169b"
   },
   "outputs": [],
   "source": [
    "def show_acc_by_stars(preds, actual):\n",
    "    distri = Counter(actual)\n",
    "    five = 0\n",
    "    four = 0\n",
    "    three = 0\n",
    "    two = 0\n",
    "    one = 0\n",
    "    for x,y in zip(preds,actual):\n",
    "        if x ==y:\n",
    "            if y ==5.0:\n",
    "                five+=1\n",
    "            elif y ==4.0:\n",
    "                four+=1\n",
    "            elif y==3.0:\n",
    "                three+=1\n",
    "            elif y==2.0:\n",
    "                two+=1\n",
    "            else:\n",
    "                one+=1\n",
    "                \n",
    "    one_text = \"1 :   \" + str(one/distri[1.0])\n",
    "    two_text = \"2 :   \" + str(two/distri[2.0])\n",
    "    three_text = \"3 :   \" + str(three/distri[3.0])\n",
    "    four_text = \"4 :   \" + str(four/distri[4.0])\n",
    "    five_text = \"5 :   \" + str(five/distri[5.0])\n",
    "    overall_acc = \"overall accuracy:       \" + str(accuracy_score(preds,actual))\n",
    "    \n",
    "    print(one_text+'\\n'+two_text+'\\n'+three_text+'\\n'+four_text+'\\n' + five_text + '\\n'+overall_acc)                "
   ]
  },
  {
   "cell_type": "code",
   "execution_count": 3,
   "id": "77768451",
   "metadata": {
    "id": "0fb0b30d"
   },
   "outputs": [],
   "source": [
    "import warnings\n",
    "warnings.filterwarnings(\"ignore\")"
   ]
  },
  {
   "cell_type": "code",
   "execution_count": 4,
   "id": "b7dacb4a",
   "metadata": {
    "id": "8258b269"
   },
   "outputs": [],
   "source": [
    "def readGz(path):\n",
    "    for l in gzip.open(path, 'rt'):\n",
    "        yield eval(l)"
   ]
  },
  {
   "cell_type": "code",
   "execution_count": 6,
   "id": "5bc69d7a",
   "metadata": {
    "id": "9396ff5c"
   },
   "outputs": [],
   "source": [
    "f = gzip.open(\"Digital_Music.json.gz\")\n",
    "dataset = []\n",
    "for l in f:\n",
    "    dataset.append(eval(l,{\"true\":True,\"false\":False,\"null\":None}))"
   ]
  },
  {
   "cell_type": "markdown",
   "id": "371e5288",
   "metadata": {},
   "source": [
    "# XGBoost"
   ]
  },
  {
   "cell_type": "code",
   "execution_count": 9,
   "id": "bb6e992e",
   "metadata": {},
   "outputs": [],
   "source": [
    "selected_data = []\n",
    "for d in dataset:\n",
    "    if 'reviewText' not in d:\n",
    "        continue\n",
    "    if 'overall' not in d:\n",
    "        d['overall'] = 5.0\n",
    "    selected_data.append({'reviewText':d['reviewText'], 'overall': d['overall']})"
   ]
  },
  {
   "cell_type": "code",
   "execution_count": 11,
   "id": "0f9ee1f6",
   "metadata": {},
   "outputs": [],
   "source": [
    "df = pd.DataFrame(selected_data)"
   ]
  },
  {
   "cell_type": "code",
   "execution_count": 13,
   "id": "4a09d2db",
   "metadata": {},
   "outputs": [
    {
     "data": {
      "text/html": [
       "<div>\n",
       "<style scoped>\n",
       "    .dataframe tbody tr th:only-of-type {\n",
       "        vertical-align: middle;\n",
       "    }\n",
       "\n",
       "    .dataframe tbody tr th {\n",
       "        vertical-align: top;\n",
       "    }\n",
       "\n",
       "    .dataframe thead th {\n",
       "        text-align: right;\n",
       "    }\n",
       "</style>\n",
       "<table border=\"1\" class=\"dataframe\">\n",
       "  <thead>\n",
       "    <tr style=\"text-align: right;\">\n",
       "      <th></th>\n",
       "      <th>reviewText</th>\n",
       "      <th>overall</th>\n",
       "    </tr>\n",
       "  </thead>\n",
       "  <tbody>\n",
       "    <tr>\n",
       "      <th>0</th>\n",
       "      <td>This is a great cd full of worship favorites!!...</td>\n",
       "      <td>5.0</td>\n",
       "    </tr>\n",
       "    <tr>\n",
       "      <th>1</th>\n",
       "      <td>So creative!  Love his music - the words, the ...</td>\n",
       "      <td>5.0</td>\n",
       "    </tr>\n",
       "    <tr>\n",
       "      <th>2</th>\n",
       "      <td>Keith Green, gone far to early in his carreer,...</td>\n",
       "      <td>5.0</td>\n",
       "    </tr>\n",
       "    <tr>\n",
       "      <th>3</th>\n",
       "      <td>Keith Green had his special comedy style of Ch...</td>\n",
       "      <td>5.0</td>\n",
       "    </tr>\n",
       "    <tr>\n",
       "      <th>4</th>\n",
       "      <td>Keith Green / So you wanna go back to Egypt......</td>\n",
       "      <td>5.0</td>\n",
       "    </tr>\n",
       "    <tr>\n",
       "      <th>5</th>\n",
       "      <td>Clever,inspired and moving. This is a great al...</td>\n",
       "      <td>5.0</td>\n",
       "    </tr>\n",
       "    <tr>\n",
       "      <th>6</th>\n",
       "      <td>This tape can hardly be understood and it was ...</td>\n",
       "      <td>1.0</td>\n",
       "    </tr>\n",
       "    <tr>\n",
       "      <th>7</th>\n",
       "      <td>Keith Green is a bit of legend in some Christi...</td>\n",
       "      <td>5.0</td>\n",
       "    </tr>\n",
       "    <tr>\n",
       "      <th>8</th>\n",
       "      <td>Pleased</td>\n",
       "      <td>5.0</td>\n",
       "    </tr>\n",
       "    <tr>\n",
       "      <th>9</th>\n",
       "      <td>Buy the CD.  Do not buy the MP3 album.  Downlo...</td>\n",
       "      <td>1.0</td>\n",
       "    </tr>\n",
       "  </tbody>\n",
       "</table>\n",
       "</div>"
      ],
      "text/plain": [
       "                                          reviewText  overall\n",
       "0  This is a great cd full of worship favorites!!...      5.0\n",
       "1  So creative!  Love his music - the words, the ...      5.0\n",
       "2  Keith Green, gone far to early in his carreer,...      5.0\n",
       "3  Keith Green had his special comedy style of Ch...      5.0\n",
       "4  Keith Green / So you wanna go back to Egypt......      5.0\n",
       "5  Clever,inspired and moving. This is a great al...      5.0\n",
       "6  This tape can hardly be understood and it was ...      1.0\n",
       "7  Keith Green is a bit of legend in some Christi...      5.0\n",
       "8                                            Pleased      5.0\n",
       "9  Buy the CD.  Do not buy the MP3 album.  Downlo...      1.0"
      ]
     },
     "execution_count": 13,
     "metadata": {},
     "output_type": "execute_result"
    }
   ],
   "source": [
    "df.head(10)"
   ]
  },
  {
   "cell_type": "code",
   "execution_count": 15,
   "id": "6fddf554",
   "metadata": {},
   "outputs": [
    {
     "name": "stderr",
     "output_type": "stream",
     "text": [
      "[nltk_data] Error loading stopwords: <urlopen error EOF occurred in\n",
      "[nltk_data]     violation of protocol (_ssl.c:1129)>\n"
     ]
    }
   ],
   "source": [
    "import nltk\n",
    "from nltk.stem import SnowballStemmer\n",
    "from nltk.corpus import stopwords\n",
    "nltk.download('stopwords')\n",
    "\n",
    "stop_words = stopwords.words('english')\n",
    "stemmer = SnowballStemmer('english')\n",
    "text_cleaning_re = \"@\\S+|https?:\\S+|http?:\\S|[^A-Za-z0-9]+\""
   ]
  },
  {
   "cell_type": "code",
   "execution_count": 16,
   "id": "e39ad235",
   "metadata": {},
   "outputs": [],
   "source": [
    "import re\n",
    "\n",
    "def preprocess(text, stem=False):\n",
    "    text = re.sub(text_cleaning_re, ' ', str(text).lower()).strip()\n",
    "    tokens = []\n",
    "    for token in text.split():\n",
    "        if token not in stop_words:\n",
    "            if stem:\n",
    "                tokens.append(stemmer.stem(token))\n",
    "            else:\n",
    "                tokens.append(token)\n",
    "    return \" \".join(tokens)"
   ]
  },
  {
   "cell_type": "code",
   "execution_count": 17,
   "id": "91821560",
   "metadata": {},
   "outputs": [],
   "source": [
    "df.reviewText = df.reviewText.apply(lambda x : preprocess(x))"
   ]
  },
  {
   "cell_type": "code",
   "execution_count": 23,
   "id": "d7e5942f",
   "metadata": {},
   "outputs": [],
   "source": [
    "df = df[:100000]"
   ]
  },
  {
   "cell_type": "code",
   "execution_count": 28,
   "id": "ac2b86b5",
   "metadata": {},
   "outputs": [
    {
     "data": {
      "text/plain": [
       "array([0.22552753, 0.25434841, 0.27109127, 0.26123587, 0.23214322,\n",
       "       0.22596947, 0.24817317, 0.26903428, 0.22531921, 0.26377041])"
      ]
     },
     "execution_count": 28,
     "metadata": {},
     "output_type": "execute_result"
    }
   ],
   "source": [
    "from sklearn.feature_extraction.text import CountVectorizer\n",
    "from sklearn.model_selection import train_test_split\n",
    "import xgboost as xgb\n",
    "from sklearn.metrics import mean_squared_error\n",
    "from sklearn.model_selection import cross_val_score\n",
    "\n",
    "text_transformer = CountVectorizer()\n",
    "\n",
    "X_text = text_transformer.fit_transform(df['reviewText'])\n",
    "\n",
    "X_train, X_test, y_train, y_test = train_test_split(X_text, df['overall'], test_size=0.2)\n",
    "\n",
    "model = xgb.XGBRegressor()\n",
    "model.fit(X_train, y_train)\n",
    "\n",
    "n_folds = 10\n",
    "\n",
    "score = cross_val_score(model, X_train, y_train, cv=n_folds)"
   ]
  },
  {
   "cell_type": "code",
   "execution_count": 29,
   "id": "d5789916",
   "metadata": {},
   "outputs": [
    {
     "data": {
      "text/plain": [
       "0.24766128435570273"
      ]
     },
     "execution_count": 29,
     "metadata": {},
     "output_type": "execute_result"
    }
   ],
   "source": [
    "sum(score)/10"
   ]
  },
  {
   "cell_type": "code",
   "execution_count": 25,
   "id": "a59a3156",
   "metadata": {},
   "outputs": [],
   "source": [
    "y_pred = model.predict(X_test)"
   ]
  },
  {
   "cell_type": "code",
   "execution_count": 36,
   "id": "4d098b5c",
   "metadata": {},
   "outputs": [
    {
     "data": {
      "text/plain": [
       "18877    5.0\n",
       "2481     5.0\n",
       "48914    4.0\n",
       "41022    4.0\n",
       "40746    5.0\n",
       "44164    5.0\n",
       "12980    5.0\n",
       "25540    2.0\n",
       "32759    5.0\n",
       "49824    5.0\n",
       "Name: overall, dtype: float64"
      ]
     },
     "execution_count": 36,
     "metadata": {},
     "output_type": "execute_result"
    }
   ],
   "source": [
    "y_test[:10]"
   ]
  },
  {
   "cell_type": "code",
   "execution_count": 26,
   "id": "9e102167",
   "metadata": {},
   "outputs": [
    {
     "data": {
      "text/plain": [
       "array([4.7574635, 4.3767195, 4.934208 , 1.4054102, 2.1225338, 4.689172 ,\n",
       "       4.919828 , 4.881586 , 4.9714627, 4.7912602], dtype=float32)"
      ]
     },
     "execution_count": 26,
     "metadata": {},
     "output_type": "execute_result"
    }
   ],
   "source": [
    "y_pred[:10]"
   ]
  },
  {
   "cell_type": "code",
   "execution_count": 27,
   "id": "f0d4de2e",
   "metadata": {},
   "outputs": [
    {
     "data": {
      "text/plain": [
       "0.5401286898821185"
      ]
     },
     "execution_count": 27,
     "metadata": {},
     "output_type": "execute_result"
    }
   ],
   "source": [
    "mse = mean_squared_error(y_pred, y_test)\n",
    "mse"
   ]
  },
  {
   "cell_type": "code",
   "execution_count": 30,
   "id": "80a0430c",
   "metadata": {},
   "outputs": [],
   "source": [
    "from sklearn.feature_extraction.text import TfidfVectorizer\n",
    "from sklearn.model_selection import train_test_split\n",
    "import xgboost as xgb\n",
    "from sklearn.metrics import mean_squared_error\n",
    "from sklearn.model_selection import cross_val_score\n",
    "\n",
    "text_transformer = TfidfVectorizer()\n",
    "\n",
    "X_text = text_transformer.fit_transform(df['reviewText'])\n",
    "\n",
    "X_train, X_test, y_train, y_test = train_test_split(X_text, df['overall'], test_size=0.2)\n",
    "\n",
    "model = xgb.XGBRegressor()\n",
    "model.fit(X_train, y_train)\n",
    "\n",
    "n_folds = 10\n",
    "\n",
    "score = cross_val_score(model, X_train, y_train, cv=n_folds)"
   ]
  },
  {
   "cell_type": "code",
   "execution_count": 31,
   "id": "1532290c",
   "metadata": {},
   "outputs": [
    {
     "data": {
      "text/plain": [
       "0.2669533219705811"
      ]
     },
     "execution_count": 31,
     "metadata": {},
     "output_type": "execute_result"
    }
   ],
   "source": [
    "sum(score)/10"
   ]
  },
  {
   "cell_type": "code",
   "execution_count": 32,
   "id": "0d8ee7de",
   "metadata": {},
   "outputs": [],
   "source": [
    "y_pred = model.predict(X_test)"
   ]
  },
  {
   "cell_type": "code",
   "execution_count": 38,
   "id": "b50c4621",
   "metadata": {},
   "outputs": [
    {
     "data": {
      "text/plain": [
       "18877    5.0\n",
       "2481     5.0\n",
       "48914    4.0\n",
       "41022    4.0\n",
       "40746    5.0\n",
       "44164    5.0\n",
       "12980    5.0\n",
       "25540    2.0\n",
       "32759    5.0\n",
       "49824    5.0\n",
       "Name: overall, dtype: float64"
      ]
     },
     "execution_count": 38,
     "metadata": {},
     "output_type": "execute_result"
    }
   ],
   "source": [
    "y_test[:10]"
   ]
  },
  {
   "cell_type": "code",
   "execution_count": 37,
   "id": "a62cd534",
   "metadata": {},
   "outputs": [
    {
     "data": {
      "text/plain": [
       "array([4.6916323, 4.8824606, 4.841428 , 3.9187117, 4.6114726, 4.7877674,\n",
       "       4.7366805, 4.500876 , 5.0250072, 4.890143 ], dtype=float32)"
      ]
     },
     "execution_count": 37,
     "metadata": {},
     "output_type": "execute_result"
    }
   ],
   "source": [
    "y_pred[:10]"
   ]
  },
  {
   "cell_type": "code",
   "execution_count": 33,
   "id": "c32f9115",
   "metadata": {},
   "outputs": [
    {
     "data": {
      "text/plain": [
       "0.5048193823541367"
      ]
     },
     "execution_count": 33,
     "metadata": {},
     "output_type": "execute_result"
    }
   ],
   "source": [
    "mse = mean_squared_error(y_pred, y_test)\n",
    "mse"
   ]
  }
 ],
 "metadata": {
  "colab": {
   "provenance": []
  },
  "kernelspec": {
   "display_name": "Python 3 (ipykernel)",
   "language": "python",
   "name": "python3"
  },
  "language_info": {
   "codemirror_mode": {
    "name": "ipython",
    "version": 3
   },
   "file_extension": ".py",
   "mimetype": "text/x-python",
   "name": "python",
   "nbconvert_exporter": "python",
   "pygments_lexer": "ipython3",
   "version": "3.9.12"
  }
 },
 "nbformat": 4,
 "nbformat_minor": 5
}
